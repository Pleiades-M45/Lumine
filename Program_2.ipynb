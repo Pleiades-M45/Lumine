{
 "cells": [
  {
   "cell_type": "code",
   "execution_count": 29,
   "id": "4f54db70",
   "metadata": {},
   "outputs": [],
   "source": [
    "import pandas as pd\n",
    "\n",
    "# Load iris dataset\n",
    "df = pd.read_csv(\"Iris.csv\")"
   ]
  },
  {
   "cell_type": "code",
   "execution_count": 30,
   "id": "b24e6be3",
   "metadata": {},
   "outputs": [],
   "source": [
    "pd.set_option('display.width', 1000)\n",
    "pd.set_option('display.max_columns', 10)"
   ]
  },
  {
   "cell_type": "code",
   "execution_count": 31,
   "id": "2e9677e0",
   "metadata": {},
   "outputs": [
    {
     "name": "stdout",
     "output_type": "stream",
     "text": [
      "      Id  SepalLengthCm  SepalWidthCm  PetalLengthCm  PetalWidthCm         Species\n",
      "0      1            5.1           3.5            1.4           0.2     Iris-setosa\n",
      "1      2            4.9           3.0            1.4           0.2     Iris-setosa\n",
      "2      3            4.7           3.2            1.3           0.2     Iris-setosa\n",
      "3      4            4.6           3.1            1.5           0.2     Iris-setosa\n",
      "4      5            5.0           3.6            1.4           0.2     Iris-setosa\n",
      "..   ...            ...           ...            ...           ...             ...\n",
      "145  146            6.7           3.0            5.2           2.3  Iris-virginica\n",
      "146  147            6.3           2.5            5.0           1.9  Iris-virginica\n",
      "147  148            6.5           3.0            5.2           2.0  Iris-virginica\n",
      "148  149            6.2           3.4            5.4           2.3  Iris-virginica\n",
      "149  150            5.9           3.0            5.1           1.8  Iris-virginica\n",
      "\n",
      "[150 rows x 6 columns]\n"
     ]
    }
   ],
   "source": [
    "# 1. DataFrame\n",
    "print(df)"
   ]
  },
  {
   "cell_type": "code",
   "execution_count": 33,
   "id": "c32146d0",
   "metadata": {},
   "outputs": [
    {
     "data": {
      "text/plain": [
       "(150, 6)"
      ]
     },
     "execution_count": 33,
     "metadata": {},
     "output_type": "execute_result"
    }
   ],
   "source": [
    "df.shape"
   ]
  },
  {
   "cell_type": "code",
   "execution_count": 34,
   "id": "06e24a6c",
   "metadata": {},
   "outputs": [
    {
     "data": {
      "text/html": [
       "<div>\n",
       "<style scoped>\n",
       "    .dataframe tbody tr th:only-of-type {\n",
       "        vertical-align: middle;\n",
       "    }\n",
       "\n",
       "    .dataframe tbody tr th {\n",
       "        vertical-align: top;\n",
       "    }\n",
       "\n",
       "    .dataframe thead th {\n",
       "        text-align: right;\n",
       "    }\n",
       "</style>\n",
       "<table border=\"1\" class=\"dataframe\">\n",
       "  <thead>\n",
       "    <tr style=\"text-align: right;\">\n",
       "      <th></th>\n",
       "      <th>Id</th>\n",
       "      <th>SepalLengthCm</th>\n",
       "      <th>SepalWidthCm</th>\n",
       "      <th>PetalLengthCm</th>\n",
       "      <th>PetalWidthCm</th>\n",
       "      <th>Species</th>\n",
       "    </tr>\n",
       "  </thead>\n",
       "  <tbody>\n",
       "    <tr>\n",
       "      <th>0</th>\n",
       "      <td>1</td>\n",
       "      <td>5.1</td>\n",
       "      <td>3.5</td>\n",
       "      <td>1.4</td>\n",
       "      <td>0.2</td>\n",
       "      <td>Iris-setosa</td>\n",
       "    </tr>\n",
       "    <tr>\n",
       "      <th>1</th>\n",
       "      <td>2</td>\n",
       "      <td>4.9</td>\n",
       "      <td>3.0</td>\n",
       "      <td>1.4</td>\n",
       "      <td>0.2</td>\n",
       "      <td>Iris-setosa</td>\n",
       "    </tr>\n",
       "    <tr>\n",
       "      <th>2</th>\n",
       "      <td>3</td>\n",
       "      <td>4.7</td>\n",
       "      <td>3.2</td>\n",
       "      <td>1.3</td>\n",
       "      <td>0.2</td>\n",
       "      <td>Iris-setosa</td>\n",
       "    </tr>\n",
       "    <tr>\n",
       "      <th>3</th>\n",
       "      <td>4</td>\n",
       "      <td>4.6</td>\n",
       "      <td>3.1</td>\n",
       "      <td>1.5</td>\n",
       "      <td>0.2</td>\n",
       "      <td>Iris-setosa</td>\n",
       "    </tr>\n",
       "    <tr>\n",
       "      <th>4</th>\n",
       "      <td>5</td>\n",
       "      <td>5.0</td>\n",
       "      <td>3.6</td>\n",
       "      <td>1.4</td>\n",
       "      <td>0.2</td>\n",
       "      <td>Iris-setosa</td>\n",
       "    </tr>\n",
       "  </tbody>\n",
       "</table>\n",
       "</div>"
      ],
      "text/plain": [
       "   Id  SepalLengthCm  SepalWidthCm  PetalLengthCm  PetalWidthCm      Species\n",
       "0   1            5.1           3.5            1.4           0.2  Iris-setosa\n",
       "1   2            4.9           3.0            1.4           0.2  Iris-setosa\n",
       "2   3            4.7           3.2            1.3           0.2  Iris-setosa\n",
       "3   4            4.6           3.1            1.5           0.2  Iris-setosa\n",
       "4   5            5.0           3.6            1.4           0.2  Iris-setosa"
      ]
     },
     "execution_count": 34,
     "metadata": {},
     "output_type": "execute_result"
    }
   ],
   "source": [
    "# 2. head()\n",
    "df.head()"
   ]
  },
  {
   "cell_type": "code",
   "execution_count": 35,
   "id": "6e9c0a3f",
   "metadata": {},
   "outputs": [
    {
     "name": "stdout",
     "output_type": "stream",
     "text": [
      "      Id  SepalLengthCm  SepalWidthCm  PetalLengthCm  PetalWidthCm         Species\n",
      "145  146            6.7           3.0            5.2           2.3  Iris-virginica\n",
      "146  147            6.3           2.5            5.0           1.9  Iris-virginica\n",
      "147  148            6.5           3.0            5.2           2.0  Iris-virginica\n",
      "148  149            6.2           3.4            5.4           2.3  Iris-virginica\n",
      "149  150            5.9           3.0            5.1           1.8  Iris-virginica\n"
     ]
    }
   ],
   "source": [
    "# 3. tail()\n",
    "print(df.tail())"
   ]
  },
  {
   "cell_type": "code",
   "execution_count": 36,
   "id": "573c660c",
   "metadata": {},
   "outputs": [
    {
     "name": "stdout",
     "output_type": "stream",
     "text": [
      "Id               150\n",
      "SepalLengthCm    150\n",
      "SepalWidthCm     150\n",
      "PetalLengthCm    150\n",
      "PetalWidthCm     150\n",
      "Species          150\n",
      "dtype: int64\n"
     ]
    }
   ],
   "source": [
    "# 4. count()\n",
    "print(df.count())"
   ]
  },
  {
   "cell_type": "code",
   "execution_count": null,
   "id": "0dee649b",
   "metadata": {},
   "outputs": [
    {
     "name": "stdout",
     "output_type": "stream",
     "text": [
      "Id               11325.0\n",
      "SepalLengthCm      876.5\n",
      "SepalWidthCm       458.1\n",
      "PetalLengthCm      563.8\n",
      "PetalWidthCm       179.8\n",
      "dtype: float64\n"
     ]
    }
   ],
   "source": [
    "# 5. Sum\n",
    "print(df.sum(numeric_only=True))"
   ]
  },
  {
   "cell_type": "code",
   "execution_count": null,
   "id": "0c090b60",
   "metadata": {},
   "outputs": [
    {
     "name": "stdout",
     "output_type": "stream",
     "text": [
      "Id               75.500000\n",
      "SepalLengthCm     5.843333\n",
      "SepalWidthCm      3.054000\n",
      "PetalLengthCm     3.758667\n",
      "PetalWidthCm      1.198667\n",
      "dtype: float64\n"
     ]
    }
   ],
   "source": [
    "# 6. Mean\n",
    "print(df.mean(numeric_only=True))"
   ]
  },
  {
   "cell_type": "code",
   "execution_count": null,
   "id": "fe82bc5a",
   "metadata": {},
   "outputs": [
    {
     "name": "stdout",
     "output_type": "stream",
     "text": [
      "Id               75.50\n",
      "SepalLengthCm     5.80\n",
      "SepalWidthCm      3.00\n",
      "PetalLengthCm     4.35\n",
      "PetalWidthCm      1.30\n",
      "dtype: float64\n"
     ]
    }
   ],
   "source": [
    "# 7. Median\n",
    "print(df.median(numeric_only=True))"
   ]
  },
  {
   "cell_type": "code",
   "execution_count": 42,
   "id": "37428d04",
   "metadata": {},
   "outputs": [
    {
     "name": "stdout",
     "output_type": "stream",
     "text": [
      "Id               1.0\n",
      "SepalLengthCm    5.0\n",
      "SepalWidthCm     3.0\n",
      "PetalLengthCm    1.5\n",
      "PetalWidthCm     0.2\n",
      "Name: 0, dtype: float64\n"
     ]
    }
   ],
   "source": [
    "# 8. Mode\n",
    "print(df.mode(numeric_only=True).iloc[0])"
   ]
  },
  {
   "cell_type": "code",
   "execution_count": 41,
   "id": "86fbf1de",
   "metadata": {},
   "outputs": [
    {
     "name": "stdout",
     "output_type": "stream",
     "text": [
      "Id               43.445368\n",
      "SepalLengthCm     0.828066\n",
      "SepalWidthCm      0.433594\n",
      "PetalLengthCm     1.764420\n",
      "PetalWidthCm      0.763161\n",
      "dtype: float64\n"
     ]
    }
   ],
   "source": [
    "# 9. Standard Deviation\n",
    "print(df.std(numeric_only=True))"
   ]
  },
  {
   "cell_type": "code",
   "execution_count": null,
   "id": "3eb7148d",
   "metadata": {},
   "outputs": [
    {
     "name": "stdout",
     "output_type": "stream",
     "text": [
      "\n",
      "Minimum:\n",
      " Id               1.0\n",
      "SepalLengthCm    4.3\n",
      "SepalWidthCm     2.0\n",
      "PetalLengthCm    1.0\n",
      "PetalWidthCm     0.1\n",
      "dtype: float64\n"
     ]
    }
   ],
   "source": [
    "# 10. Minimum\n",
    "print(df.min(numeric_only=True))"
   ]
  },
  {
   "cell_type": "code",
   "execution_count": 44,
   "id": "8c70c74e",
   "metadata": {},
   "outputs": [
    {
     "name": "stdout",
     "output_type": "stream",
     "text": [
      "Id               150.0\n",
      "SepalLengthCm      7.9\n",
      "SepalWidthCm       4.4\n",
      "PetalLengthCm      6.9\n",
      "PetalWidthCm       2.5\n",
      "dtype: float64\n"
     ]
    }
   ],
   "source": [
    "# 11. Maximum\n",
    "print(df.max(numeric_only=True))"
   ]
  },
  {
   "cell_type": "code",
   "execution_count": 47,
   "id": "8cf99a90",
   "metadata": {},
   "outputs": [
    {
     "name": "stdout",
     "output_type": "stream",
     "text": [
      "   Id  SepalLengthCm  SepalWidthCm  PetalLengthCm  PetalWidthCm\n",
      "0   1            5.1           3.5            1.4           0.2\n",
      "1   2            4.9           3.0            1.4           0.2\n",
      "2   3            4.7           3.2            1.3           0.2\n",
      "3   4            4.6           3.1            1.5           0.2\n",
      "4   5            5.0           3.6            1.4           0.2\n"
     ]
    }
   ],
   "source": [
    "# 12. Absolute Values (first 5 rows)\n",
    "print(df.select_dtypes(include='number').abs().head())"
   ]
  },
  {
   "cell_type": "code",
   "execution_count": 46,
   "id": "535c7103",
   "metadata": {},
   "outputs": [
    {
     "name": "stdout",
     "output_type": "stream",
     "text": [
      "Id                0.000000e+00\n",
      "SepalLengthCm    2.257440e+114\n",
      "SepalWidthCm      1.197477e+72\n",
      "PetalLengthCm     3.774489e+76\n",
      "PetalWidthCm      2.972714e-12\n",
      "dtype: float64\n"
     ]
    }
   ],
   "source": [
    "# 13. Product\n",
    "print(df.prod(numeric_only=True))"
   ]
  },
  {
   "cell_type": "code",
   "execution_count": 48,
   "id": "140b504f",
   "metadata": {},
   "outputs": [
    {
     "name": "stdout",
     "output_type": "stream",
     "text": [
      "   Id  SepalLengthCm  SepalWidthCm  PetalLengthCm  PetalWidthCm\n",
      "0   1            5.1           3.5            1.4           0.2\n",
      "1   3           10.0           6.5            2.8           0.4\n",
      "2   6           14.7           9.7            4.1           0.6\n",
      "3  10           19.3          12.8            5.6           0.8\n",
      "4  15           24.3          16.4            7.0           1.0\n"
     ]
    }
   ],
   "source": [
    "# 14. Cumulative Sum (first 5 rows)\n",
    "print(df.select_dtypes(include='number').cumsum().head())"
   ]
  },
  {
   "cell_type": "code",
   "execution_count": 49,
   "id": "1da96b86",
   "metadata": {},
   "outputs": [
    {
     "name": "stdout",
     "output_type": "stream",
     "text": [
      "    Id  SepalLengthCm  SepalWidthCm  PetalLengthCm  PetalWidthCm\n",
      "0    1         5.1000         3.500         1.4000       0.20000\n",
      "1    2        24.9900        10.500         1.9600       0.04000\n",
      "2    6       117.4530        33.600         2.5480       0.00800\n",
      "3   24       540.2838       104.160         3.8220       0.00160\n",
      "4  120      2701.4190       374.976         5.3508       0.00032\n"
     ]
    }
   ],
   "source": [
    "# 15. Cumulative Product (first 5 rows)\n",
    "print(df.select_dtypes(include='number').cumprod().head())"
   ]
  },
  {
   "cell_type": "code",
   "execution_count": 50,
   "id": "458d24de",
   "metadata": {},
   "outputs": [
    {
     "name": "stdout",
     "output_type": "stream",
     "text": [
      "<class 'pandas.core.frame.DataFrame'>\n",
      "RangeIndex: 150 entries, 0 to 149\n",
      "Data columns (total 6 columns):\n",
      " #   Column         Non-Null Count  Dtype  \n",
      "---  ------         --------------  -----  \n",
      " 0   Id             150 non-null    int64  \n",
      " 1   SepalLengthCm  150 non-null    float64\n",
      " 2   SepalWidthCm   150 non-null    float64\n",
      " 3   PetalLengthCm  150 non-null    float64\n",
      " 4   PetalWidthCm   150 non-null    float64\n",
      " 5   Species        150 non-null    object \n",
      "dtypes: float64(4), int64(1), object(1)\n",
      "memory usage: 7.2+ KB\n"
     ]
    }
   ],
   "source": [
    "# 16. Info\n",
    "df.info()"
   ]
  },
  {
   "cell_type": "code",
   "execution_count": 51,
   "id": "98c1e2ce",
   "metadata": {},
   "outputs": [
    {
     "name": "stdout",
     "output_type": "stream",
     "text": [
      "(150, 6)\n"
     ]
    }
   ],
   "source": [
    "# 17. Shape\n",
    "print(df.shape)"
   ]
  },
  {
   "cell_type": "code",
   "execution_count": 52,
   "id": "1a80b7d8",
   "metadata": {},
   "outputs": [
    {
     "name": "stdout",
     "output_type": "stream",
     "text": [
      "               Id  SepalLengthCm  SepalWidthCm  PetalLengthCm  PetalWidthCm\n",
      "count  150.000000     150.000000    150.000000     150.000000    150.000000\n",
      "mean    75.500000       5.843333      3.054000       3.758667      1.198667\n",
      "std     43.445368       0.828066      0.433594       1.764420      0.763161\n",
      "min      1.000000       4.300000      2.000000       1.000000      0.100000\n",
      "25%     38.250000       5.100000      2.800000       1.600000      0.300000\n",
      "50%     75.500000       5.800000      3.000000       4.350000      1.300000\n",
      "75%    112.750000       6.400000      3.300000       5.100000      1.800000\n",
      "max    150.000000       7.900000      4.400000       6.900000      2.500000\n"
     ]
    }
   ],
   "source": [
    "# 18. Describe\n",
    "print(df.describe())"
   ]
  }
 ],
 "metadata": {
  "kernelspec": {
   "display_name": "Python 3",
   "language": "python",
   "name": "python3"
  },
  "language_info": {
   "codemirror_mode": {
    "name": "ipython",
    "version": 3
   },
   "file_extension": ".py",
   "mimetype": "text/x-python",
   "name": "python",
   "nbconvert_exporter": "python",
   "pygments_lexer": "ipython3",
   "version": "3.10.12"
  }
 },
 "nbformat": 4,
 "nbformat_minor": 5
}
